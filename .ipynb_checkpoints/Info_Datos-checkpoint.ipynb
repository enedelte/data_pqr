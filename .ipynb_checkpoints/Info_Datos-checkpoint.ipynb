{
 "cells": [
  {
   "cell_type": "code",
   "execution_count": 1,
   "id": "5c489096-becf-4dd6-8256-7d36f666ba4d",
   "metadata": {},
   "outputs": [],
   "source": [
    "import pandas as pd\n",
    "import os"
   ]
  },
  {
   "cell_type": "code",
   "execution_count": 30,
   "id": "da41520f-8198-431d-955c-0583a20c2dd4",
   "metadata": {},
   "outputs": [],
   "source": [
    "registros_1427 = pd.read_csv('reg_1427.txt')\n",
    "certificados_1427 = pd.read_csv('datos_cert_1427.txt')"
   ]
  },
  {
   "cell_type": "code",
   "execution_count": 3,
   "id": "80232d37-1898-445d-b669-ba5c918d2668",
   "metadata": {},
   "outputs": [],
   "source": [
    "df = pd.DataFrame(registros_1427)\n",
    "df2 = df[['NUMERO_PQR', 'DOCUMENTO']]"
   ]
  },
  {
   "cell_type": "code",
   "execution_count": 6,
   "id": "55c487cc-5d15-48a2-8262-a1d2d4a515fc",
   "metadata": {},
   "outputs": [
    {
     "name": "stdout",
     "output_type": "stream",
     "text": [
      "Cantidad de Documentos Registrados en carpeta de Certificados 1427: 414\n"
     ]
    }
   ],
   "source": [
    "# Contar la cantidad de documentos únicos\n",
    "cantidad_registrados = df2['DOCUMENTO'].nunique()\n",
    "print(f'Cantidad de Documentos Registrados en carpeta de Certificados 1427: {cantidad_registrados}')"
   ]
  },
  {
   "cell_type": "code",
   "execution_count": 7,
   "id": "7c32cbcc-b038-448d-81eb-988fdb4d57c5",
   "metadata": {},
   "outputs": [
    {
     "name": "stdout",
     "output_type": "stream",
     "text": [
      "Cantidad de Documentos Repetidos en registros de solicitudes Certificados 1427: 123\n"
     ]
    }
   ],
   "source": [
    "# Contar la cantidad de documentos repetidos\n",
    "cantidad_repetidos = df2.duplicated(subset=['DOCUMENTO']).sum()\n",
    "print(f'Cantidad de Documentos Repetidos en registros de solicitudes Certificados 1427: {cantidad_repetidos}')"
   ]
  },
  {
   "cell_type": "code",
   "execution_count": 8,
   "id": "103f5b28-9930-4064-a525-847d7f927a00",
   "metadata": {},
   "outputs": [
    {
     "name": "stdout",
     "output_type": "stream",
     "text": [
      "Lista de Documentos Repetidos en registros de Certificados 1427:\n",
      "    Documento  Cantidad\n",
      "0    72210040         6\n",
      "1    35514564         6\n",
      "2    34565096         5\n",
      "3    15668870         5\n",
      "4    69022883         4\n",
      "..        ...       ...\n",
      "75   52180173         2\n",
      "76   52263943         2\n",
      "77   63434067         2\n",
      "78   15352031         2\n",
      "79    3158648         2\n",
      "\n",
      "[80 rows x 2 columns]\n"
     ]
    }
   ],
   "source": [
    "# Identificar y contar los documentos repetidos\n",
    "df_repetidos = df2[df2.duplicated(subset=['DOCUMENTO'], keep=False)]\n",
    "conteo__repetidos = df_repetidos['DOCUMENTO'].value_counts().reset_index()\n",
    "conteo__repetidos.columns = ['Documento', 'Cantidad']\n",
    "\n",
    "print(f'Lista de Documentos Repetidos en registros de Certificados 1427:\\n{conteo__repetidos}')"
   ]
  },
  {
   "cell_type": "code",
   "execution_count": 9,
   "id": "02a4615a-b725-4839-ac56-024ac39806f3",
   "metadata": {},
   "outputs": [
    {
     "name": "stdout",
     "output_type": "stream",
     "text": [
      "Cantidad de Documentos Registrados en carpeta de Certificados 1427:\n",
      " 387\n",
      "Cantidad de Documentos Repetidos en carpeta de Certificados 1427:\n",
      " 33\n",
      "Lista de Documentos Repetidos en carpeta de Certificados 1427:\n",
      "      Documento  Cantidad\n",
      "0     46378194         4\n",
      "1     98480102         3\n",
      "2     79442432         3\n",
      "3     34565096         3\n",
      "4     35514564         3\n",
      "5     71615237         3\n",
      "6      6340605         2\n",
      "7     98464398         2\n",
      "8      9533248         2\n",
      "9     91448145         2\n",
      "10     8404095         2\n",
      "11    69022883         2\n",
      "12    66849602         2\n",
      "13     6522962         2\n",
      "14  1076322655         2\n",
      "15     6319192         2\n",
      "16    14650078         2\n",
      "17    52180173         2\n",
      "18    48611446         2\n",
      "19    43820511         2\n",
      "20    31302928         2\n",
      "21    20423325         2\n",
      "22    15668870         2\n",
      "23    15353705         2\n",
      "24    15352312         2\n",
      "25     5580742         2\n"
     ]
    }
   ],
   "source": [
    "# Dar de baja a los datos vacios\n",
    "datos_fil = certificados_1427[['Documento']].copy()\n",
    "datos_fil['Documento'] = datos_fil['Documento'].replace('None', pd.NA)  # Reemplazar 'None' por NaN\n",
    "datos_fil.dropna(subset=['Documento'], inplace=True)  # Eliminar filas con valores NaN en 'Documento'\n",
    "\n",
    "# Convertir la columna 'Documento' a tipo de dato entero\n",
    "datos_fil['Documento'] = pd.to_numeric(datos_fil['Documento'], errors='coerce', downcast='integer')\n",
    "\n",
    "# Contar la cantidad de documentos únicos y repetidos\n",
    "cantidad_registrados = datos_fil['Documento'].count()  # Cantidad de documentos registrados\n",
    "cantidad_repetidos = datos_fil.duplicated(subset=['Documento']).sum()  # Cantidad de documentos repetidos\n",
    "\n",
    "# Identificar y contar los documentos repetidos\n",
    "df_repetidos = datos_fil[datos_fil.duplicated(subset=['Documento'], keep=False)]\n",
    "conteo_repetidos = df_repetidos['Documento'].value_counts().reset_index()\n",
    "conteo_repetidos.columns = ['Documento', 'Cantidad']\n",
    "\n",
    "# Imprimir resultados\n",
    "print('Cantidad de Documentos Registrados en carpeta de Certificados 1427:\\n', cantidad_registrados)\n",
    "print('Cantidad de Documentos Repetidos en carpeta de Certificados 1427:\\n', cantidad_repetidos)\n",
    "print('Lista de Documentos Repetidos en carpeta de Certificados 1427:\\n', conteo_repetidos)"
   ]
  },
  {
   "cell_type": "code",
   "execution_count": 37,
   "id": "69d17c66-377a-4e73-809c-dd1ee72a9f9d",
   "metadata": {},
   "outputs": [
    {
     "name": "stdout",
     "output_type": "stream",
     "text": [
      "     Documento  Cantidad Solicitados  Cantidad Emitidos\n",
      "0     72210040                     6                  1\n",
      "1     35514564                     6                  3\n",
      "2     34565096                     5                  3\n",
      "3     15668870                     5                  2\n",
      "4     69022883                     4                  2\n",
      "5     24183123                     4                  1\n",
      "6     46378194                     4                  4\n",
      "7      6265689                     4                  1\n",
      "8     98480102                     4                  3\n",
      "9     12458977                     4                  1\n",
      "10    79205643                     3                  1\n",
      "11    79041483                     3                  1\n",
      "12    75037366                     3                  1\n",
      "13    91448145                     3                  2\n",
      "14    71615237                     3                  3\n",
      "15    94472995                     3                  1\n",
      "16    63525247                     3                  1\n",
      "17    46668168                     3                  1\n",
      "18     3347764                     3                  1\n",
      "19    37530893                     3                  1\n",
      "20    98379329                     3                  1\n",
      "21    35603145                     3                  1\n",
      "22  1112632080                     3                  1\n",
      "23    15336356                     3                  1\n",
      "24     8404095                     3                  2\n",
      "25    15353705                     3                  2\n",
      "26     6319192                     3                  2\n",
      "27    91206681                     2                  1\n",
      "28    70070897                     2                  1\n",
      "29    71613558                     2                  1\n",
      "30    12566341                     2                  1\n",
      "31    71647536                     2                  1\n",
      "32    10271558                     2                  1\n",
      "33    72435617                     2                  1\n",
      "34     9533248                     2                  2\n",
      "35     6522962                     2                  2\n",
      "36    79442432                     2                  3\n",
      "37    80438462                     2                  1\n",
      "38    21476497                     2                  1\n",
      "39    66849602                     2                  2\n",
      "40    93385677                     2                  1\n",
      "41    94377962                     2                  1\n",
      "42     5712732                     2                  1\n",
      "43     5045055                     2                  1\n",
      "44    98464398                     2                  2\n",
      "45     4429988                     2                  1\n",
      "46  1037640039                     2                  1\n",
      "47  1052387644                     2                  1\n",
      "48  1076322655                     2                  2\n",
      "49  1096193519                     2                  1\n",
      "50  1098709857                     2                  1\n",
      "51    91250655                     2                  1\n",
      "52    66819056                     2                  1\n",
      "53    22632508                     2                  1\n",
      "54    42687177                     2                  1\n",
      "55    20423325                     2                  2\n",
      "56    26920530                     2                  1\n",
      "57    28561875                     2                  1\n",
      "58    31302928                     2                  2\n",
      "59    31572846                     2                  1\n",
      "60    16980022                     2                  1\n",
      "61    16778602                     2                  1\n",
      "62    15925518                     2                  1\n",
      "63    15403601                     2                  1\n",
      "64    37897761                     2                  1\n",
      "65    39948859                     2                  1\n",
      "66    43494217                     2                  1\n",
      "67    63533678                     2                  1\n",
      "68    43514718                     2                  1\n",
      "69    43820511                     2                  2\n",
      "70    15403295                     2                  1\n",
      "71    48621083                     2                  1\n",
      "72    51904932                     2                  1\n",
      "73    51965626                     2                  1\n",
      "74    52072405                     2                  1\n",
      "75    52180173                     2                  2\n",
      "76    52263943                     2                  1\n",
      "77    63434067                     2                  1\n",
      "78    15352031                     2                  1\n",
      "79     3158648                     2                  1\n",
      "80     6340605                     1                  2\n",
      "81    14650078                     1                  2\n",
      "82    48611446                     1                  2\n",
      "83    15352312                     1                  2\n",
      "84     5580742                     1                  2\n"
     ]
    }
   ],
   "source": [
    "# Fusionar los DataFrames en función de la columna 'Documento'\n",
    "nuevo_dataframe = pd.merge(conteo__repetidos, conteo_repetidos, on='Documento', how='outer')\n",
    "\n",
    "# Convertir las columnas 'Cantidad_x' y 'Cantidad_y' a tipo de dato entero\n",
    "nuevo_dataframe['Cantidad Solicitados'] = nuevo_dataframe['Cantidad_x'].fillna(1).astype(int)\n",
    "nuevo_dataframe['Cantidad Emitidos'] = nuevo_dataframe['Cantidad_y'].fillna(1).astype(int)\n",
    "\n",
    "# Eliminar las columnas 'Cantidad_x' y 'Cantidad_y'\n",
    "nuevo_dataframe = nuevo_dataframe.drop(columns=['Cantidad_x', 'Cantidad_y'])\n",
    "\n",
    "# Imprimir el nuevo DataFrame\n",
    "print(nuevo_dataframe)\n"
   ]
  },
  {
   "cell_type": "code",
   "execution_count": 41,
   "id": "0280cea1-3275-410a-9068-7bb1d46d9d77",
   "metadata": {},
   "outputs": [
    {
     "name": "stdout",
     "output_type": "stream",
     "text": [
      "     Documento  Cantidad Solicitados  Cantidad Emitidos\n",
      "0     72210040                     6                  1\n",
      "1     35514564                     6                  3\n",
      "2     34565096                     5                  3\n",
      "3     15668870                     5                  2\n",
      "4     69022883                     4                  2\n",
      "5     24183123                     4                  1\n",
      "6     46378194                     4                  4\n",
      "7      6265689                     4                  1\n",
      "8     98480102                     4                  3\n",
      "9     12458977                     4                  1\n",
      "10    79205643                     3                  1\n",
      "11    79041483                     3                  1\n",
      "12    75037366                     3                  1\n",
      "13    91448145                     3                  2\n",
      "14    71615237                     3                  3\n",
      "15    94472995                     3                  1\n",
      "16    63525247                     3                  1\n",
      "17    46668168                     3                  1\n",
      "18     3347764                     3                  1\n",
      "19    37530893                     3                  1\n",
      "20    98379329                     3                  1\n",
      "21    35603145                     3                  1\n",
      "22  1112632080                     3                  1\n",
      "23    15336356                     3                  1\n",
      "24     8404095                     3                  2\n",
      "25    15353705                     3                  2\n",
      "26     6319192                     3                  2\n",
      "27    91206681                     2                  1\n",
      "28    70070897                     2                  1\n",
      "29    71613558                     2                  1\n",
      "30    12566341                     2                  1\n",
      "31    71647536                     2                  1\n",
      "32    10271558                     2                  1\n",
      "33    72435617                     2                  1\n",
      "34     9533248                     2                  2\n",
      "35     6522962                     2                  2\n",
      "36    79442432                     2                  3\n",
      "37    80438462                     2                  1\n",
      "38    21476497                     2                  1\n",
      "39    66849602                     2                  2\n",
      "40    93385677                     2                  1\n",
      "41    94377962                     2                  1\n",
      "42     5712732                     2                  1\n",
      "43     5045055                     2                  1\n",
      "44    98464398                     2                  2\n",
      "45     4429988                     2                  1\n",
      "46  1037640039                     2                  1\n",
      "47  1052387644                     2                  1\n",
      "48  1076322655                     2                  2\n",
      "49  1096193519                     2                  1\n",
      "50  1098709857                     2                  1\n",
      "51    91250655                     2                  1\n",
      "52    66819056                     2                  1\n",
      "53    22632508                     2                  1\n",
      "54    42687177                     2                  1\n",
      "55    20423325                     2                  2\n",
      "56    26920530                     2                  1\n",
      "57    28561875                     2                  1\n",
      "58    31302928                     2                  2\n",
      "59    31572846                     2                  1\n",
      "60    16980022                     2                  1\n",
      "61    16778602                     2                  1\n",
      "62    15925518                     2                  1\n",
      "63    15403601                     2                  1\n",
      "64    37897761                     2                  1\n",
      "65    39948859                     2                  1\n",
      "66    43494217                     2                  1\n",
      "67    63533678                     2                  1\n",
      "68    43514718                     2                  1\n",
      "69    43820511                     2                  2\n",
      "70    15403295                     2                  1\n",
      "71    48621083                     2                  1\n",
      "72    51904932                     2                  1\n",
      "73    51965626                     2                  1\n",
      "74    52072405                     2                  1\n",
      "75    52180173                     2                  2\n",
      "76    52263943                     2                  1\n",
      "77    63434067                     2                  1\n",
      "78    15352031                     2                  1\n",
      "79     3158648                     2                  1\n",
      "80     6340605                     1                  2\n",
      "81    14650078                     1                  2\n",
      "82    48611446                     1                  2\n",
      "83    15352312                     1                  2\n",
      "84     5580742                     1                  2\n"
     ]
    }
   ],
   "source": [
    "nuevo_dataframe\n",
    "pd.set_option('display.max_rows', None)  # Para mostrar todas las filas\n",
    "pd.set_option('display.max_columns', None)  # Para mostrar todas las columnas\n",
    "print(nuevo_dataframe)\n",
    "\n",
    "ruta = \"C:\\\\Users\\\\dapache\\\\OneDrive - NUEVA EPS\\\\GO_PQR\\\\datamaker\\\\\"\n",
    "nuevo_dataframe.to_csv(ruta + \"reporte_solicitados_vs_emitidos.txt\", index=False)\n"
   ]
  },
  {
   "cell_type": "code",
   "execution_count": null,
   "id": "5c256190-108e-44e2-90f5-ea74a5f66028",
   "metadata": {},
   "outputs": [],
   "source": []
  }
 ],
 "metadata": {
  "kernelspec": {
   "display_name": "Python 3 (ipykernel)",
   "language": "python",
   "name": "python3"
  },
  "language_info": {
   "codemirror_mode": {
    "name": "ipython",
    "version": 3
   },
   "file_extension": ".py",
   "mimetype": "text/x-python",
   "name": "python",
   "nbconvert_exporter": "python",
   "pygments_lexer": "ipython3",
   "version": "3.11.3"
  }
 },
 "nbformat": 4,
 "nbformat_minor": 5
}
