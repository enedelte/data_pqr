{
 "cells": [
  {
   "cell_type": "code",
   "execution_count": 20,
   "id": "018ed7f2-f3cd-45cb-b2d0-431ac017c914",
   "metadata": {},
   "outputs": [
    {
     "name": "stdout",
     "output_type": "stream",
     "text": [
      "No se pudo leer el archivo Excel: read_excel() got an unexpected keyword argument 'table'\n"
     ]
    }
   ],
   "source": [
    "import pandas as pd\n",
    "\n",
    "# Ruta del archivo Excel\n",
    "ruta_excel = 'ASSIGNAMENT_PQR.xlsm'\n",
    "\n",
    "# Nombre de la hoja de cálculo y tabla\n",
    "nombre_hoja = 'CONSOL'\n",
    "nombre_tabla = 'CONSOL'\n",
    "\n",
    "# Leer el archivo Excel\n",
    "try:\n",
    "    # Intentar leer la hoja de cálculo específica\n",
    "    df = pd.read_excel(ruta_excel, sheet_name= nombre_hoja, table= nombre_tabla)\n",
    "    \n",
    "    # Imprimir el DataFrame\n",
    "    print(df)\n",
    "except Exception as e:\n",
    "    # Manejar errores, por ejemplo, si la hoja de cálculo o la tabla no existen\n",
    "    print(f\"No se pudo leer el archivo Excel: {e}\")\n"
   ]
  },
  {
   "cell_type": "code",
   "execution_count": null,
   "id": "ca895737-ad63-4d0e-976d-da38bb84be16",
   "metadata": {},
   "outputs": [],
   "source": [
    " "
   ]
  }
 ],
 "metadata": {
  "kernelspec": {
   "display_name": "Python 3 (ipykernel)",
   "language": "python",
   "name": "python3"
  },
  "language_info": {
   "codemirror_mode": {
    "name": "ipython",
    "version": 3
   },
   "file_extension": ".py",
   "mimetype": "text/x-python",
   "name": "python",
   "nbconvert_exporter": "python",
   "pygments_lexer": "ipython3",
   "version": "3.11.3"
  }
 },
 "nbformat": 4,
 "nbformat_minor": 5
}
