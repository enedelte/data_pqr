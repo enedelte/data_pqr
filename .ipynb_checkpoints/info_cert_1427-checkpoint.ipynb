{
 "cells": [
  {
   "cell_type": "code",
   "execution_count": 1,
   "id": "bfa101fe-5f42-40db-a1bd-9928b5607d57",
   "metadata": {},
   "outputs": [],
   "source": [
    "from datos_pqr_1427 import datos_cert_1427, reg_1427\n",
    "import pandas as pd\n",
    "import numpy as np\n",
    "import csv\n",
    "\n",
    "\n",
    "# Filtrar valores nulos y duplicados en 'Documento' en carpeta de Certficados 1427\n",
    "datos_fil = datos_cert_1427[['Documento']].copy()\n",
    "datos_fil['Documento'] = datos_fil['Documento'].replace('None', pd.NA)  # Reemplazar 'None' por NaN\n",
    "datos_fil.dropna(subset=['Documento'], inplace=True)  # Eliminar filas con valores NaN en 'Documento'\n",
    "\n",
    "# Contar la cantidad de documentos únicos y repetidos\n",
    "cantidad_registrados = datos_fil['Documento'].count()  # Cantidad de documentos registrados\n",
    "cantidad_repetidos = datos_fil.duplicated(subset=['Documento']).sum()  # Cantidad de documentos repetidos\n",
    "\n",
    "# Identificar y contar los documentos repetidos\n",
    "df_repetidos = datos_fil[datos_fil.duplicated(subset=['Documento'], keep=False)]\n",
    "conteo_repetidos = df_repetidos['Documento'].value_counts().reset_index()\n",
    "conteo_repetidos.columns = ['Documento', 'Cantidad']\n",
    "\n",
    "# Imprimir resultados\n",
    "print('Cantidad de Documentos Registrados en carpeta de Certificados 1427:\\n', cantidad_registrados)\n",
    "print('Cantidad de Documentos Repetidos en carpeta de Certificados 1427:\\n', cantidad_repetidos)\n",
    "print('Lista de Documentos Repetidos\\n en carpeta de Certificados 1427:\\n', conteo_repetidos)\n",
    "\n",
    "# Filtrar valores nulos y duplicados en 'DOCUMENTO' en Archivo de solicitud Certficados 1427\n",
    "registros = reg_1427[['DOCUMENTO']].copy()\n",
    "registros['DOCUMENTO'] = registros['DOCUMENTO'].replace('NaN', pd.NA)\n",
    "registros.dropna(subset=['DOCUMENTO'], inplace=True)  # Eliminar filas con valores NaN en 'Documento\n",
    "# Contar la cantidad de documentos únicos y repetidos\n",
    "cantidad_registros = registros['DOCUMENTO'].count()\n",
    "numero_registros = registros.duplicated(subset=['DOCUMENTO']).sum()\n",
    "# Identificar y contar los documentos repetidos\n",
    "registros_repetidos = registros[registros.duplicated(subset=['DOCUMENTO'], keep=False)]\n",
    "conteo__repetidos = registros_repetidos['DOCUMENTO'].value_counts().reset_index()\n",
    "conteo__repetidos.columns = ['Documento', 'Cantidad']\n",
    "\n",
    "# ruta_reporte = \"C:\\\\Users\\\\dapache\\\\OneDrive - NUEVA EPS\\\\GO_PQR\\\\\"\n",
    "# with open(ruta_reporte + 'datos_exportados.txt', 'w') as file:\n",
    "#     file.write(str(numero_registros))\n"
   ]
  },
  {
   "cell_type": "code",
   "execution_count": 2,
   "id": "6b097c56-3520-4272-9c8d-15593d37e400",
   "metadata": {},
   "outputs": [
    {
     "name": "stdout",
     "output_type": "stream",
     "text": [
      "   Documento  Cantidad_x  Cantidad_y\n",
      "0   72210040         6.0         NaN\n",
      "1   35514564         6.0         3.0\n",
      "2   34565096         5.0         3.0\n",
      "3   15668870         5.0         2.0\n",
      "4   69022883         4.0         2.0\n",
      "..       ...         ...         ...\n",
      "80   6340605         NaN         2.0\n",
      "81  14650078         NaN         2.0\n",
      "82  48611446         NaN         2.0\n",
      "83  15352312         NaN         2.0\n",
      "84   5580742         NaN         2.0\n",
      "\n",
      "[85 rows x 3 columns]\n"
     ]
    }
   ],
   "source": [
    "import pandas as pd\n",
    "\n",
    "# Suponiendo que tienes dos DataFrames llamados conteo__repetidos y conteo_repetidos\n",
    "# Ambos con columnas 'Documento' y 'Cantidad'\n",
    "\n",
    "# Convertir la columna 'Documento' a tipo de dato object en ambos DataFrames\n",
    "conteo__repetidos['Documento'] = conteo__repetidos['Documento'].astype(str)\n",
    "conteo_repetidos['Documento'] = conteo_repetidos['Documento'].astype(str)\n",
    "conteo__repetidos['Cantidad'] = conteo__repetidos['Cantidad'].astype(int)\n",
    "conteo_repetidos['Cantidad'] = conteo_repetidos['Cantidad'].astype(int)\n",
    "\n",
    "# Fusionar los DataFrames en función de la columna 'Documento'\n",
    "nuevo_dataframe = pd.merge(conteo__repetidos, conteo_repetidos, on='Documento', how='outer')\n",
    "\n",
    "# Imprimir el nuevo DataFrame\n",
    "print(nuevo_dataframe)\n"
   ]
  },
  {
   "cell_type": "code",
   "execution_count": null,
   "id": "67b5bfd6-39de-464b-94c5-7d773b36562f",
   "metadata": {},
   "outputs": [],
   "source": []
  }
 ],
 "metadata": {
  "kernelspec": {
   "display_name": "Python 3 (ipykernel)",
   "language": "python",
   "name": "python3"
  },
  "language_info": {
   "codemirror_mode": {
    "name": "ipython",
    "version": 3
   },
   "file_extension": ".py",
   "mimetype": "text/x-python",
   "name": "python",
   "nbconvert_exporter": "python",
   "pygments_lexer": "ipython3",
   "version": "3.11.3"
  }
 },
 "nbformat": 4,
 "nbformat_minor": 5
}
